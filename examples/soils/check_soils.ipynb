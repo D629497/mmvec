{
 "cells": [
  {
   "cell_type": "code",
   "execution_count": 1,
   "metadata": {},
   "outputs": [],
   "source": [
    "import pandas as pd\n",
    "import matplotlib.pyplot as plt\n",
    "%matplotlib inline"
   ]
  },
  {
   "cell_type": "code",
   "execution_count": 2,
   "metadata": {},
   "outputs": [
    {
     "name": "stdout",
     "output_type": "stream",
     "text": [
      "\u001b[34mlatent_dim_1_input_prior_1.00_output_prior_1.00_beta1_0.90_beta2_0.95\u001b[m\u001b[m\r\n",
      "latent_dim_1_input_prior_1.00_output_prior_1.00_beta1_0.90_beta2_0.95_embedding.csv\r\n",
      "latent_dim_1_input_prior_1.00_output_prior_1.00_beta1_0.90_beta2_0.95_ordination.txt\r\n",
      "latent_dim_1_input_prior_1.00_output_prior_1.00_beta1_0.90_beta2_0.95_ranks.csv\r\n"
     ]
    }
   ],
   "source": [
    "!ls summarydir"
   ]
  },
  {
   "cell_type": "code",
   "execution_count": 3,
   "metadata": {},
   "outputs": [],
   "source": [
    "datadir = 'summarydir/latent_dim_1_input_prior_1.00_output_prior_1.00_beta1_0.90_beta2_0.95'\n",
    "ranks = pd.read_csv(datadir + '_ranks.csv', index_col=0)"
   ]
  },
  {
   "cell_type": "code",
   "execution_count": 4,
   "metadata": {},
   "outputs": [
    {
     "data": {
      "text/plain": [
       "(2,3-dihydroxy-3-methylbutanoate)    0.000000\n",
       "(2,5-diaminohexanoate)               0.030698\n",
       "(3-hydroxypyridine)                  0.030141\n",
       "(3-methyladenine)                    0.032587\n",
       "(4-oxoproline)                       0.036312\n",
       "Name: rplo 1 (Cyanobacteria), dtype: float64"
      ]
     },
     "execution_count": 4,
     "metadata": {},
     "output_type": "execute_result"
    }
   ],
   "source": [
    "ranks.loc['rplo 1 (Cyanobacteria)'].head()"
   ]
  },
  {
   "cell_type": "code",
   "execution_count": 5,
   "metadata": {},
   "outputs": [],
   "source": [
    "microcoleus_metabolites = {'(3-methyladenine)', '7-methyladenine', '4-guanidinobutanoate', 'uracil',\n",
    "                           'xanthine', 'hypoxanthine', '(N6-acetyl-lysine)', 'cytosine',\n",
    "                           'N-acetylornithine', 'N-acetylornithine', 'succinate', \n",
    "                           'adenosine', 'guanine', 'adenine'}"
   ]
  },
  {
   "cell_type": "code",
   "execution_count": 6,
   "metadata": {},
   "outputs": [],
   "source": [
    "idx = ranks.loc['rplo 1 (Cyanobacteria)'] > 0 \n",
    "detected_molecules = set(ranks.columns[idx])"
   ]
  },
  {
   "cell_type": "code",
   "execution_count": 7,
   "metadata": {},
   "outputs": [
    {
     "data": {
      "text/plain": [
       "{'(3-methyladenine)',\n",
       " '(N6-acetyl-lysine)',\n",
       " '4-guanidinobutanoate',\n",
       " '7-methyladenine',\n",
       " 'N-acetylornithine',\n",
       " 'adenine',\n",
       " 'adenosine',\n",
       " 'cytosine',\n",
       " 'guanine',\n",
       " 'hypoxanthine',\n",
       " 'succinate',\n",
       " 'uracil',\n",
       " 'xanthine'}"
      ]
     },
     "execution_count": 7,
     "metadata": {},
     "output_type": "execute_result"
    }
   ],
   "source": [
    "detected_molecules & microcoleus_metabolites"
   ]
  },
  {
   "cell_type": "code",
   "execution_count": 8,
   "metadata": {},
   "outputs": [
    {
     "data": {
      "text/plain": [
       "13"
      ]
     },
     "execution_count": 8,
     "metadata": {},
     "output_type": "execute_result"
    }
   ],
   "source": [
    "len(microcoleus_metabolites)"
   ]
  },
  {
   "cell_type": "code",
   "execution_count": 9,
   "metadata": {},
   "outputs": [
    {
     "data": {
      "text/plain": [
       "13"
      ]
     },
     "execution_count": 9,
     "metadata": {},
     "output_type": "execute_result"
    }
   ],
   "source": [
    "len(detected_molecules & microcoleus_metabolites)"
   ]
  },
  {
   "cell_type": "code",
   "execution_count": 10,
   "metadata": {},
   "outputs": [
    {
     "data": {
      "text/plain": [
       "cytosine                0.033451\n",
       "N-acetylornithine       0.033029\n",
       "adenosine               0.038334\n",
       "(3-methyladenine)       0.032587\n",
       "hypoxanthine            0.032204\n",
       "uracil                  0.032330\n",
       "xanthine                0.030167\n",
       "guanine                 0.033443\n",
       "7-methyladenine         0.029252\n",
       "succinate               0.033501\n",
       "4-guanidinobutanoate    0.031690\n",
       "(N6-acetyl-lysine)      0.031525\n",
       "adenine                 0.032958\n",
       "Name: rplo 1 (Cyanobacteria), dtype: float64"
      ]
     },
     "execution_count": 10,
     "metadata": {},
     "output_type": "execute_result"
    }
   ],
   "source": [
    "ranks.loc['rplo 1 (Cyanobacteria)'].loc[microcoleus_metabolites]"
   ]
  },
  {
   "cell_type": "code",
   "execution_count": 11,
   "metadata": {},
   "outputs": [
    {
     "data": {
      "text/plain": [
       "rplo 1 (Cyanobacteria)               2.809479\n",
       "rplo 2 (Firmicutes)               -494.541479\n",
       "rplo 60 (Firmicutes)             -1061.278356\n",
       "rplo 7 (Actinobacteria)           -446.945491\n",
       "rplo 10 (Firmicutes)             -1111.157733\n",
       "rplo 100 (Proteobacteria)         -453.130700\n",
       "rplo 101 (Proteobacteria)         -612.388126\n",
       "rplo 102 (Actinobacteria)         -384.226718\n",
       "rplo 103 (Actinobacteria)         -405.945447\n",
       "rplo 104 (Bacteroidetes)          -727.285738\n",
       "rplo 105 (Proteobacteria)         -487.866036\n",
       "rplo 106 (Acidobacteria)          -946.449571\n",
       "rplo 107 (Actinobacteria)         -376.288682\n",
       "rplo 108 (Actinobacteria)         -353.116777\n",
       "rplo 109 (Proteobacteria)         -397.670003\n",
       "rplo 11 (Proteobacteria)          -696.364023\n",
       "rplo 110 (Proteobacteria)         -343.051649\n",
       "rplo 111 (Actinobacteria)          -38.908356\n",
       "rplo 112 (Actinobacteria)         -314.502679\n",
       "rplo 113 (unknown)                -318.718507\n",
       "rplo 114 (Deinococcus-Thermus)    -382.556861\n",
       "rplo 115 (Acidobacteria)          -249.341861\n",
       "rplo 116 (unknown)                -392.245324\n",
       "rplo 117 (Deferribacteres)        -495.282467\n",
       "rplo 118 (Acidobacteria)          -578.429006\n",
       "rplo 119 (Actinobacteria)         -347.590271\n",
       "rplo 12 (Gemmatimonadetes)        -262.279334\n",
       "rplo 120 (Actinobacteria)         -318.152909\n",
       "rplo 121 (Actinobacteria)         -396.906430\n",
       "rplo 122 (Cyanobacteria)          -428.550105\n",
       "                                     ...     \n",
       "rplo 72 (Firmicutes)             -1292.843463\n",
       "rplo 73 (Bacteroidetes)           -581.347484\n",
       "rplo 74 (Proteobacteria)          -722.463277\n",
       "rplo 75 (Acidobacteria)            274.107725\n",
       "rplo 76 (Firmicutes)             -1386.808632\n",
       "rplo 77 (Proteobacteria)          -732.131941\n",
       "rplo 78 (Actinobacteria)           -65.821395\n",
       "rplo 79 (Actinobacteria)          -554.176862\n",
       "rplo 8 (Acidobacteria)             194.892640\n",
       "rplo 80 (Actinobacteria)          -475.518804\n",
       "rplo 81 (unknown)                  162.910411\n",
       "rplo 82 (Actinobacteria)          -729.384245\n",
       "rplo 83 (Acidobacteria)             57.609748\n",
       "rplo 84 (Proteobacteria)          -515.782188\n",
       "rplo 85 (Cyanobacteria)            542.527846\n",
       "rplo 86 (Proteobacteria)          -483.048461\n",
       "rplo 87 (Proteobacteria)          -293.004638\n",
       "rplo 88 (Firmicutes)             -1115.961251\n",
       "rplo 89 (Bacteroidetes)             80.785708\n",
       "rplo 9 (Proteobacteria)           -232.518513\n",
       "rplo 90 (Proteobacteria)          -200.526823\n",
       "rplo 91 (Actinobacteria)          -266.646381\n",
       "rplo 92 (Proteobacteria)          -493.728879\n",
       "rplo 93 (Proteobacteria)          -425.298417\n",
       "rplo 94 (unknown)                 -361.577533\n",
       "rplo 95 (Proteobacteria)          -429.893268\n",
       "rplo 96 (unknown)                 -354.740628\n",
       "rplo 97 (Firmicutes)             -1015.982385\n",
       "rplo 98 (Actinobacteria)          -477.019421\n",
       "rplo 99 (Cyanobacteria)           -712.866998\n",
       "Length: 466, dtype: float64"
      ]
     },
     "execution_count": 11,
     "metadata": {},
     "output_type": "execute_result"
    }
   ],
   "source": [
    "assert len(detected_molecules & microcoleus_metabolites) == 13"
   ]
  },
  {
   "cell_type": "code",
   "execution_count": null,
   "metadata": {},
   "outputs": [],
   "source": []
  }
 ],
 "metadata": {
  "kernelspec": {
   "display_name": "Python 3",
   "language": "python",
   "name": "python3"
  },
  "language_info": {
   "codemirror_mode": {
    "name": "ipython",
    "version": 3
   },
   "file_extension": ".py",
   "mimetype": "text/x-python",
   "name": "python",
   "nbconvert_exporter": "python",
   "pygments_lexer": "ipython3",
   "version": "3.6.7"
  }
 },
 "nbformat": 4,
 "nbformat_minor": 2
}
